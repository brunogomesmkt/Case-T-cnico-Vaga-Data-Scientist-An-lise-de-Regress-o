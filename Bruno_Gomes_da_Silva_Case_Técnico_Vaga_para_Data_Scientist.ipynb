{
  "cells": [
    {
      "cell_type": "markdown",
      "source": [
        "# **Case Técnico - Data Scientist**\n",
        "\n",
        "---\n",
        "\n",
        "\n",
        "## Candidato: Bruno Gomes da Silva\n",
        "\n",
        "Observação: Abaixo tem a versão em inglês e em Português deste notebook.\n"
      ],
      "metadata": {
        "id": "KM7CAPtDoLcT"
      },
      "id": "KM7CAPtDoLcT"
    },
    {
      "cell_type": "markdown",
      "source": [
        "# **Problem 3: Regression Analysis**\n",
        "A pharmaceutical company has a new internal policy to not significantly discriminate between salaries based on the location of its employees. They have collected data from all employees and would like you to verify that they are already following the new policy. Before answering the questions below, please take a look at the attached dataset: (1stPhase-SelectiveProcess-Data Science-Data Base.csv)."
      ],
      "metadata": {
        "id": "MGOaHElmJwwa"
      },
      "id": "MGOaHElmJwwa"
    },
    {
      "cell_type": "markdown",
      "source": [
        "# A) Describe how you can use the pharmaceutical company data to determine whether employees at different locations have significantly different salaries. (Include here how you will treat the variables before inputting them into the model and any steps you intend to take, going as in-depth as possible in your explanation)."
      ],
      "metadata": {
        "id": "AgxbMaD0KJ2b"
      },
      "id": "AgxbMaD0KJ2b"
    },
    {
      "cell_type": "markdown",
      "source": [
        "# Answer:\n",
        "To determine whether there is a significant difference in salaries based on the LOCATION variable (capital or rural), I will use a multiple linear regression approach. Below, I detail all the steps that will be taken:"
      ],
      "metadata": {
        "id": "0ac9fx2YKVR7"
      },
      "id": "0ac9fx2YKVR7"
    },
    {
      "cell_type": "markdown",
      "source": [
        "# 1. Understanding the Problem\n",
        "The company wants to know whether the new policy aimed at geographic pay equity is being respected. Therefore, the focus is to identify whether the employee's location (LOCATION) significantly influences their salary, controlling for other relevant factors, such as:\n",
        "\n",
        "*   Position;\n",
        "*   Position;\n",
        "*   Education;\n",
        "*   Age;\n",
        "*   Tenure with the company.\n"
      ],
      "metadata": {
        "id": "TGTFshMZKgJN"
      },
      "id": "TGTFshMZKgJN"
    },
    {
      "cell_type": "markdown",
      "source": [
        "# 2. Exploratory Data Analysis (EDA)\n",
        "Before any modeling:\n",
        "\n",
        "Check the distribution of the MONTHLY_SALARY variable;\n",
        "*   Item da lista\n",
        "*   Observe the average salary by LOCATION;\n",
        "*   Create boxplots and graphs to visualize patterns;\n",
        "*   Check for outliers and missing values.\n"
      ],
      "metadata": {
        "id": "LIuFv64xlclH"
      },
      "id": "LIuFv64xlclH"
    },
    {
      "cell_type": "markdown",
      "source": [
        "# 3. Data Preparation\n",
        "Treatment of Categorical Variables\n",
        "The variables EDUCATION, POSITION, and LOCATION are categorical. To include these variables in the linear regression model, I will transform them into dummy variables (one-hot encoding):\n",
        "\n",
        "\n",
        "*   I will use drop_first=True to avoid the dummy variable trap.\n",
        "*   The LOCAL_CAPITAL variable will be used as a dummy: if the coefficient of this variable is statistically significant, it will indicate that location influences salary.\n",
        "\n",
        "*   Standardization/Normalization: This is not strictly necessary for linear regression, but I can check the scale of continuous variables (AGE, TIMEHOUSE) to assess whether there is a significant disparity."
      ],
      "metadata": {
        "id": "voTgr_b7l4_Z"
      },
      "id": "voTgr_b7l4_Z"
    },
    {
      "cell_type": "markdown",
      "source": [
        "# 4. Statistical Modeling\n",
        "I will use multiple linear regression with the dependent variable:\n",
        "\n",
        "\n",
        "*   MONTHLY_SALARY\n",
        "\n",
        "And the independent variables:\n",
        "*   AGE, TIME OF HOUSE (numeric)\n",
        "\n",
        "*   EDUCATION, POSITION, CAPITAL_LOCATION (dummies)\n",
        "\n",
        "The model will be adjusted with:\n",
        "\n",
        "Or for more detailed statistical analysis (with p-values)."
      ],
      "metadata": {
        "id": "AucdjnD4mfVF"
      },
      "id": "AucdjnD4mfVF"
    },
    {
      "cell_type": "markdown",
      "source": [
        "# 5. Evaluation and Interpretation\n",
        "After adjusting the model, I will analyze:\n",
        "\n",
        "\n",
        "*   Coefficient of the LOCAL_CAPITAL variable:\n",
        "  *   If it is statistically significant (p-value < 0.05), it means there is a significant salary difference between locations.\n",
        "  *   The sign (positive or negative) will indicate who earns more.\n",
        "\n",
        "*  R² and adjusted R²: To verify the explanation of the variability.\n",
        "*  Multicollinearity (VIF): To assess whether there is a correlation between predictors."
      ],
      "metadata": {
        "id": "o1g6ZvHam82x"
      },
      "id": "o1g6ZvHam82x"
    },
    {
      "cell_type": "markdown",
      "source": [
        "# 6. Model-Based Conclusion\n",
        "If the model indicates that LOCAL is not significant (or the difference is very small), we can conclude that the location-based non-discrimination policy is being followed.\n",
        "\n",
        "If the LOCAL_CAPITAL variable is significant and the coefficient is significant, this may indicate geographic wage inequality, even controlling for position, age, tenure, and education."
      ],
      "metadata": {
        "id": "RB5U3pHrn3DI"
      },
      "id": "RB5U3pHrn3DI"
    },
    {
      "cell_type": "markdown",
      "source": [
        "# Summary of Steps\n",
        "\n",
        "1. EDA: Analyze distribution and means by LOCATION\n",
        "2. Treatment: Create dummies for categorical variables\n",
        "3. Modeling: Multiple linear regression with variable control\n",
        "4. Interpretation: Check the significance and magnitude of the LOCAL_CAPITAL variable\n",
        "5. Conclusion: Conclude on equity based on the coefficients and p-values"
      ],
      "metadata": {
        "id": "CI-92u7toIVH"
      },
      "id": "CI-92u7toIVH"
    },
    {
      "cell_type": "markdown",
      "source": [
        "# B) Imagine that, after reviewing the data, you have a meeting with the client where you can show some graphs and ask them comments and/or questions about the data. What visuals would you bring, and what comments/questions would you ask?"
      ],
      "metadata": {
        "id": "IJh7IDi1omBb"
      },
      "id": "IJh7IDi1omBb"
    },
    {
      "cell_type": "markdown",
      "source": [
        "# Visual graphs I would bring:\n",
        "\n",
        "## 1. Boxplot of salary by location\n",
        "Objective: Visually compare the salary distribution between employees in the capital and the interior.\n",
        "\n",
        "What it reveals: Differences in median, dispersion, and outliers.\n",
        "\n",
        "## 2. Bar chart with average salary by position and location\n",
        "Objective: See if the salary difference between locations persists within the same position (e.g., managers in the capital vs. the interior).\n",
        "## 3. Histogram or KDE of salary distribution\n",
        "Objective: Assess whether there is a general trend in salary differences and how salaries are distributed by group.\n",
        "## 4. Scatterplot: salary vs. age, colored by location\n",
        "Objective: Explore whether there is a relationship between age and salary in different locations.\n",
        "\n",
        "## Technical comments to be made in the report\n",
        "\n",
        "- \"We observed an apparent difference in average salaries between locations. The boxplot suggests that employees in the capital (or interior) systematically earn more.\"\n",
        "\n",
        "- \"When controlling for position and education, we still see a salary difference. This may indicate geographic bias.\"\n",
        "\n",
        "- \"The regression showed that location has a statistically significant (or insignificant) impact on salary, even after controlling for other variables.\"\n",
        "\n",
        "## Strategic Questions for the Client\n",
        "\n",
        "- \"Do the positions in both locations have the same duties and responsibilities?\" (There may be differences that justify different salaries even with the same title.)\n",
        "\n",
        "- \"Does the HR policy establish national or regional salary ranges?\" (This helps contextualize whether a direct comparison is appropriate.)\n",
        "\n",
        "- \"Are there any additional benefits or local living costs that could influence this result?\" (For example, the cost of living in the capital may be higher.)\n",
        "\n",
        "- \"Is this hiring pattern recent or historical?\" (There may be a legacy of previous decisions.)\n",
        "\n",
        "- \"Would you like the analysis to be expanded to include other performance or productivity variables?\"\n",
        "\n",
        "## Other pertinent questions as the meeting progresses.\n",
        "\n",
        "The meeting must balance clear visual evidence with objective comments and strategic questions, demonstrating my technical expertise without taking away the client's leading role in the decision, because the client is always at the center of decisions."
      ],
      "metadata": {
        "id": "csUBiH2houwY"
      },
      "id": "csUBiH2houwY"
    },
    {
      "cell_type": "markdown",
      "source": [
        "# C) Implement your approach as best you can in Python code, commenting on each step. Don't forget to provide a final conclusion."
      ],
      "metadata": {
        "id": "nvp1diYOp5ji"
      },
      "id": "nvp1diYOp5ji"
    },
    {
      "cell_type": "code",
      "source": [
        "# 1. Import libraries\n",
        "\n",
        "import pandas as pd\n",
        "import seaborn as sns\n",
        "import matplotlib.pyplot as plt\n",
        "import statsmodels.api as sm"
      ],
      "metadata": {
        "id": "cgUUfXCqp7hs"
      },
      "id": "cgUUfXCqp7hs",
      "execution_count": null,
      "outputs": []
    },
    {
      "cell_type": "code",
      "source": [
        "from google.colab import drive\n",
        "drive.mount('/content/drive')"
      ],
      "metadata": {
        "colab": {
          "base_uri": "https://localhost:8080/"
        },
        "id": "MAnneH7DqGG9",
        "outputId": "234d78b9-c8ec-416f-c735-fae8cbd22e44"
      },
      "id": "MAnneH7DqGG9",
      "execution_count": null,
      "outputs": [
        {
          "output_type": "stream",
          "name": "stdout",
          "text": [
            "Mounted at /content/drive\n"
          ]
        }
      ]
    },
    {
      "cell_type": "code",
      "source": [
        "# 2. Load the data\n",
        "df = pd.read_excel(\"/content/drive/MyDrive/Artefact/1st_Phase_-_Selective_Process_-_Data_Science_-_DataBase.xlsx\", sheet_name=\"Sheet3\")"
      ],
      "metadata": {
        "id": "H0IPRLUiqLo_"
      },
      "id": "H0IPRLUiqLo_",
      "execution_count": null,
      "outputs": []
    },
    {
      "cell_type": "code",
      "source": [
        "# 3. Exploratory analysis\n",
        "\n",
        "sns.boxplot(x='LOCAL', y='SALARIO_MENSAL', data=df)\n",
        "plt.title(\"Distribuição Salarial por Local\")\n",
        "plt.show()\n",
        "\n",
        "sns.barplot(x='CARGO', y='SALARIO_MENSAL', hue='LOCAL', data=df, ci=None)\n",
        "plt.title(\"Salário Médio por Cargo e Local\")\n",
        "plt.xticks(rotation=45)\n",
        "plt.show()"
      ],
      "metadata": {
        "colab": {
          "base_uri": "https://localhost:8080/",
          "height": 1000
        },
        "id": "z54WRHfoqdLm",
        "outputId": "bc09c943-25da-42f8-f077-19ef5d72e12e"
      },
      "id": "z54WRHfoqdLm",
      "execution_count": null,
      "outputs": [
        {
          "output_type": "display_data",
          "data": {
            "text/plain": [
              "<Figure size 640x480 with 1 Axes>"
            ],
            "image/png": "[encoded data removed]"
          },
          "metadata": {}
        },
        {
          "output_type": "stream",
          "name": "stderr",
          "text": [
            "/tmp/ipython-input-5-2463638083.py:7: FutureWarning: \n",
            "\n",
            "The `ci` parameter is deprecated. Use `errorbar=None` for the same effect.\n",
            "\n",
            "  sns.barplot(x='CARGO', y='SALARIO_MENSAL', hue='LOCAL', data=df, ci=None)\n"
          ]
        },
        {
          "output_type": "display_data",
          "data": {
            "text/plain": [
              "<Figure size 640x480 with 1 Axes>"
            ],
            "image/png": "[encoded data removed]"
          },
          "metadata": {}
        }
      ]
    },
    {
      "cell_type": "code",
      "source": [
        "# 4. Data Preparation\n",
        "# We prepare the data so that the regression works correctly, transforming text into numbers,\n",
        "# separating the predicted value (salary) from the explanatory factors, and standardizing the formats.\n",
        "\n",
        "df_model = pd.get_dummies(df, columns=['EDUCAÇÃO', 'CARGO', 'LOCAL'], drop_first=True)\n",
        "X = df_model.drop(columns=['ID', 'SALARIO_MENSAL'])\n",
        "y = df_model['SALARIO_MENSAL']\n",
        "X = sm.add_constant(X)\n"
      ],
      "metadata": {
        "id": "RdbC-e-rqqMJ"
      },
      "id": "RdbC-e-rqqMJ",
      "execution_count": null,
      "outputs": []
    },
    {
      "cell_type": "code",
      "source": [
        "# To know what types of variables we have in the dataset.\n",
        "print(df_model.dtypes)"
      ],
      "metadata": {
        "colab": {
          "base_uri": "https://localhost:8080/"
        },
        "id": "3rpi4hz1q_LT",
        "outputId": "00f398b2-36d3-4327-81f5-4a2c5fe5ace1"
      },
      "id": "3rpi4hz1q_LT",
      "execution_count": null,
      "outputs": [
        {
          "output_type": "stream",
          "name": "stdout",
          "text": [
            "ID                     int64\n",
            "IDADE                  int64\n",
            "TEMPOCASA              int64\n",
            "SALARIO_MENSAL       float64\n",
            "EDUCAÇÃO_SUPERIOR       bool\n",
            "CARGO_DIRETOR           bool\n",
            "CARGO_GERENTE           bool\n",
            "LOCAL_INTERIOR          bool\n",
            "dtype: object\n"
          ]
        }
      ]
    },
    {
      "cell_type": "code",
      "source": [
        "# Problem: Bool columns (True/False) such as: HIGHER_EDUCATION, DIRECTOR_POSITION, MANAGER_POSITION, and INTERNAL_LOCATION\n",
        "#Are being interpreted as bool types, and statsmodels.OLS doesn't accept this type — it requires strictly numeric columns (int or float).\n",
        "\n",
        "X = X.astype(float) # converts everything, including booleans"
      ],
      "metadata": {
        "id": "EoCE6u8frFra"
      },
      "id": "EoCE6u8frFra",
      "execution_count": null,
      "outputs": []
    },
    {
      "cell_type": "code",
      "source": [
        "# Add constant to the model\n",
        "\n",
        "X = sm.add_constant(X)"
      ],
      "metadata": {
        "id": "ConKe-GwrZTC"
      },
      "id": "ConKe-GwrZTC",
      "execution_count": null,
      "outputs": []
    },
    {
      "cell_type": "code",
      "source": [
        "# Convert everything to float to avoid error with boolean types\n",
        "\n",
        "X = X.astype(float)\n",
        "y = y.astype(float)\n"
      ],
      "metadata": {
        "id": "vaGKepEbrjmc"
      },
      "id": "vaGKepEbrjmc",
      "execution_count": null,
      "outputs": []
    },
    {
      "cell_type": "code",
      "source": [
        "# Fit OLS Model\n",
        "# I used the linear regression model to find out which factors explain employees' salaries.\n",
        "# It helped me conclude that location isn't unfairly influencing salaries, which is good news for company policy.\n",
        "\n",
        "# 5. Linear Regression\n",
        "# Linear regression is a mathematical tool that helps us discover the relationship between these variables and predict salaries.\n",
        "# It's a way to understand and predict how one thing (like salary) changes when other factors change (like tenure, age, position, etc.).\n",
        "\n",
        "model = sm.OLS(y, X).fit()\n",
        "print(model.summary())"
      ],
      "metadata": {
        "colab": {
          "base_uri": "https://localhost:8080/"
        },
        "id": "dZOuPr1wr_2W",
        "outputId": "4a0d1a6a-b7a2-4f03-a3e9-fbebbeac06b3"
      },
      "id": "dZOuPr1wr_2W",
      "execution_count": null,
      "outputs": [
        {
          "output_type": "stream",
          "name": "stdout",
          "text": [
            "                            OLS Regression Results                            \n",
            "==============================================================================\n",
            "Dep. Variable:         SALARIO_MENSAL   R-squared:                       0.626\n",
            "Model:                            OLS   Adj. R-squared:                  0.595\n",
            "Method:                 Least Squares   F-statistic:                     20.33\n",
            "Date:                Mon, 21 Jul 2025   Prob (F-statistic):           7.77e-14\n",
            "Time:                        20:36:25   Log-Likelihood:                -636.69\n",
            "No. Observations:                  80   AIC:                             1287.\n",
            "Df Residuals:                      73   BIC:                             1304.\n",
            "Df Model:                           6                                         \n",
            "Covariance Type:            nonrobust                                         \n",
            "=====================================================================================\n",
            "                        coef    std err          t      P>|t|      [0.025      0.975]\n",
            "-------------------------------------------------------------------------------------\n",
            "const              3631.0433    594.635      6.106      0.000    2445.938    4816.149\n",
            "IDADE                14.7424     14.462      1.019      0.311     -14.080      43.564\n",
            "TEMPOCASA            81.3154     18.199      4.468      0.000      45.045     117.586\n",
            "EDUCAÇÃO_SUPERIOR   161.0824    214.205      0.752      0.454    -265.828     587.993\n",
            "CARGO_DIRETOR      1187.0942    277.146      4.283      0.000     634.743    1739.445\n",
            "CARGO_GERENTE       362.8629    184.628      1.965      0.053      -5.101     730.827\n",
            "LOCAL_INTERIOR      155.3521    186.840      0.831      0.408    -217.019     527.723\n",
            "==============================================================================\n",
            "Omnibus:                      124.459   Durbin-Watson:                   2.044\n",
            "Prob(Omnibus):                  0.000   Jarque-Bera (JB):             4523.915\n",
            "Skew:                           5.133   Prob(JB):                         0.00\n",
            "Kurtosis:                      38.380   Cond. No.                         387.\n",
            "==============================================================================\n",
            "\n",
            "Notes:\n",
            "[1] Standard Errors assume that the covariance matrix of the errors is correctly specified.\n"
          ]
        }
      ]
    },
    {
      "cell_type": "markdown",
      "source": [
        "# Final Conclusion\n",
        "The LOCAL_INTERIOR variable is not statistically significant (p-value = 0.408), which indicates that, when controlling for position, age, tenure, and education, there is no evidence that location significantly influences salaries.\n",
        "\n",
        "Therefore, based on the data and model used, the company appears to be respecting its policy of non-discrimination based on location.\n",
        "\n",
        "✅ Time at the company and being a director significantly influence salaries.\n",
        "\n",
        "❌ Location (interior vs. capital) does not have a statistically significant influence.\n",
        "\n",
        "✅ This indicates that the company is treating salaries fairly across regions, respecting internal policy."
      ],
      "metadata": {
        "id": "cPat24ifsGUw"
      },
      "id": "cPat24ifsGUw"
    },
    {
      "cell_type": "markdown",
      "source": [
        "End\n",
        "Thank you.\n",
        "\n",
        "Sincerely,\n",
        "\n",
        "Bruno Gomes da Silva"
      ],
      "metadata": {
        "id": "a3KtJY97sZEF"
      },
      "id": "a3KtJY97sZEF"
    },
    {
      "cell_type": "markdown",
      "source": [
        "# **Problema 3: Análise de regressão**"
      ],
      "metadata": {
        "id": "9EGhcq0H5Rsw"
      },
      "id": "9EGhcq0H5Rsw"
    },
    {
      "cell_type": "markdown",
      "source": [
        "Uma empresa da indústria farmacêutica tem uma nova política interna para não discriminar significativamente os salários de acordo com a localização de seus funcionários. Eles coletaram os dados de todos os funcionários e querem que você verifique se eles já estão seguindo a nova política. Antes de responder às perguntas abaixo, dê uma olhada no conjunto de dados em anexo: (1stPhase-SelectiveProcess-Data Science-Data Base.csv)."
      ],
      "metadata": {
        "id": "PZeKuHuBpXFb"
      },
      "id": "PZeKuHuBpXFb"
    },
    {
      "cell_type": "markdown",
      "source": [
        "# A) Descreva como você pode usar os dados da farmacêutica para verificar se os funcionários de diferentes locais têm salários significativamente diferentes. (Inclua aqui como você tratará as variáveis antes de inseri-las no modelo e todas as etapas que pretende seguir aprofundando o máximo possível em sua explicação)."
      ],
      "metadata": {
        "id": "r0oqGbHu5rO7"
      },
      "id": "r0oqGbHu5rO7"
    },
    {
      "cell_type": "markdown",
      "source": [
        "# Resposta:\n",
        "\n",
        "Para verificar se há diferença significativa nos salários em função da variável LOCAL (capital ou interior), utilizarei uma abordagem de regressão linear múltipla. A seguir, detalho todas as etapas que serão adotadas:"
      ],
      "metadata": {
        "id": "_3ir5tlU5u1Y"
      },
      "id": "_3ir5tlU5u1Y"
    },
    {
      "cell_type": "markdown",
      "source": [
        "# 1. Entendimento do Problema\n",
        "\n",
        "A empresa deseja saber se a nova política que visa equidade salarial geográfica está sendo respeitada. Portanto, o foco é identificar se a localização do funcionário (LOCAL) influencia significativamente o salário, controlando outros fatores relevantes, como:\n",
        "\n",
        "\n",
        "- Cargo;\n",
        "\n",
        "- Educação;\n",
        "\n",
        "- Idade;\n",
        "\n",
        "- Tempo de empresa."
      ],
      "metadata": {
        "id": "pFI21YzVpwVN"
      },
      "id": "pFI21YzVpwVN"
    },
    {
      "cell_type": "markdown",
      "source": [
        "# 2. Análise Exploratória dos Dados (EDA)\n",
        "\n",
        "Antes de qualquer modelagem:\n",
        "\n",
        "- Verificar a distribuição da variável SALARIO_MENSAL;\n",
        "\n",
        "- Observar a média de salários por LOCAL;\n",
        "\n",
        "- Criar boxplots e gráficos para visualizar padrões;\n",
        "\n",
        "- Checar a existência de outliers e valores ausentes.\n",
        "\n"
      ],
      "metadata": {
        "id": "5_95ElXEp7by"
      },
      "id": "5_95ElXEp7by"
    },
    {
      "cell_type": "markdown",
      "source": [
        "# 3. Preparação dos Dados\n",
        "\n",
        "- Tratamento de variáveis categóricas\n",
        "\n",
        "As variáveis EDUCAÇÃO, CARGO e LOCAL são categóricas. Para incluir essas variáveis no modelo de regressão linear, transformarei em variáveis dummies (one-hot encoding):"
      ],
      "metadata": {
        "id": "SZSeMOxGqKPK"
      },
      "id": "SZSeMOxGqKPK"
    },
    {
      "cell_type": "markdown",
      "source": [
        "- Usarei drop_first=True para evitar a armadilha das variáveis fictícias (dummy variable trap).\n",
        "\n",
        "- A variável LOCAL_CAPITAL será usada como dummy: se o coeficiente dessa variável for estatisticamente significativo, isso indicará que a localização influencia o salário.\n",
        "\n",
        "- Padronização/normalização\n",
        "Não é estritamente necessário para regressão linear, mas posso verificar a escala das variáveis contínuas (IDADE, TEMPOCASA) para avaliar se há grande disparidade.\n"
      ],
      "metadata": {
        "id": "KlcMGTMvqc5d"
      },
      "id": "KlcMGTMvqc5d"
    },
    {
      "cell_type": "markdown",
      "source": [
        "# 4. Modelagem Estatística\n",
        "\n",
        "Usarei regressão linear múltipla com a variável dependente:\n",
        "\n",
        "- SALARIO_MENSAL\n",
        "\n",
        "E as variáveis independentes:\n",
        "\n",
        "- IDADE, TEMPOCASA (numéricas)\n",
        "\n",
        "- EDUCAÇÃO_*, CARGO_*, LOCAL_CAPITAL (dummies)\n",
        "\n",
        "O modelo será ajustado com:"
      ],
      "metadata": {
        "id": "mBuArc9qq8hK"
      },
      "id": "mBuArc9qq8hK"
    },
    {
      "cell_type": "markdown",
      "source": [
        "Ou para análise estatística mais detalhada (com p-valores)."
      ],
      "metadata": {
        "id": "ktMpmv-jrWq9"
      },
      "id": "ktMpmv-jrWq9"
    },
    {
      "cell_type": "markdown",
      "source": [
        "# 5. Avaliação e Interpretação\n",
        "Após ajustar o modelo, analisarei:\n",
        "\n",
        "- Coeficiente da variável LOCAL_CAPITAL:\n",
        "\n",
        " - Se for estatisticamente significativo (p-valor < 0.05), significa que existe diferença salarial relevante entre locais.\n",
        "\n",
        "  - O sinal (positivo ou negativo) indicará quem recebe mais.\n",
        "\n",
        "- R² e R² ajustado: Para verificar a explicação da variabilidade.\n",
        "\n",
        "- Multicolinearidade (VIF): Para avaliar se há correlação entre preditores."
      ],
      "metadata": {
        "id": "R_62IH6Rrbp_"
      },
      "id": "R_62IH6Rrbp_"
    },
    {
      "cell_type": "markdown",
      "source": [
        "# 6. Conclusão Baseada no Modelo\n",
        "Se o modelo indicar que LOCAL não é significativo (ou a diferença é muito pequena), podemos concluir que a política de não-discriminação por localização está sendo seguida.\n",
        "\n",
        "Se a variável LOCAL_CAPITAL for significativa e o coeficiente expressivo, isso pode indicar desigualdade salarial geográfica, mesmo controlando por cargo, idade, tempo de casa e educação."
      ],
      "metadata": {
        "id": "DYfi0AEdrpFw"
      },
      "id": "DYfi0AEdrpFw"
    },
    {
      "cell_type": "markdown",
      "source": [
        "# Resumo das Etapas\n",
        "\n",
        "| Etapa            | Ação                                                            |\n",
        "| ---------------- | --------------------------------------------------------------- |\n",
        "| 1. EDA           | Analisar distribuição e médias por LOCAL                        |\n",
        "| 2. Tratamento    | Criar dummies para variáveis categóricas                        |\n",
        "| 3. Modelagem     | Regressão linear múltipla com controle de variáveis             |\n",
        "| 4. Interpretação | Verificar significância e magnitude da variável `LOCAL_CAPITAL` |\n",
        "| 5. Conclusão     | Concluir sobre equidade com base nos coeficientes e p-valores   |\n"
      ],
      "metadata": {
        "id": "onsfQKf8rtW5"
      },
      "id": "onsfQKf8rtW5"
    },
    {
      "cell_type": "markdown",
      "source": [
        "# B) Imagine que, depois de olhar os dados, você tenha uma reunião com o cliente em que poderá mostrar alguns gráficos e fazer comentários e/ou perguntas para ele sobre os dados. Quais visuais você levaria e quais comentários/perguntas você faria?"
      ],
      "metadata": {
        "id": "1CtqZL2esdGe"
      },
      "id": "1CtqZL2esdGe"
    },
    {
      "cell_type": "markdown",
      "source": [
        "**Gráficos (visuais) que eu levaria:**\n",
        "1. Boxplot do salário por localização\n",
        "- Objetivo: Comparar visualmente a distribuição dos salários entre funcionários da capital e do interior.\n",
        "\n",
        "- O que revela: Diferenças de mediana, dispersão, outliers.\n",
        "\n",
        "2. Gráfico de barras com média salarial por cargo e localização\n",
        "\n",
        "- Objetivo: Ver se a diferença salarial entre locais persiste dentro do mesmo cargo (ex: gerentes na capital vs no interior).\n",
        "\n",
        "3. Histograma ou KDE da distribuição salarial\n",
        "\n",
        "- Objetivo: Avaliar se há tendência geral de diferença salarial, e como os salários se distribuem por grupo.\n",
        "\n",
        "4. Gráfico de dispersão: salário vs idade, colorido por localização\n",
        "- Objetivo: Explorar se há relação entre idade e salário em diferentes locais.\n",
        "\n",
        "**Comentários técnicos a serem feitos na reunião**\n",
        "- “Observamos uma diferença aparente de salários médios entre localidades. O gráfico de boxplot sugere que funcionários na capital (ou interior) ganham sistematicamente mais.”\n",
        "\n",
        "- “Ao controlar por cargo e escolaridade, ainda vemos uma diferença salarial. Isso pode indicar um viés geográfico.”\n",
        "\n",
        "- “A regressão mostrou que a localização tem um impacto estatisticamente significativo (ou não) no salário, mesmo após controlar outras variáveis.”\n",
        "\n",
        "**Perguntas estratégicas para o cliente**\n",
        "\n",
        "1. “Os cargos nas duas localidades têm as mesmas atribuições e responsabilidades?”\n",
        "(Pode haver diferenças que justificam salários diferentes mesmo com o mesmo título.)\n",
        "\n",
        "2. “A política de RH estabelece faixas salariais nacionais ou regionais?”\n",
        "(Isso ajuda a contextualizar se a comparação direta é apropriada.)\n",
        "\n",
        "3. “Existem benefícios extras ou custos de vida locais que podem influenciar esse resultado?”\n",
        "(Por exemplo, custo de vida na capital pode ser maior.)\n",
        "\n",
        "4. “Esse padrão de contratação é recente ou histórico?”\n",
        "(Pode haver legado de decisões anteriores.)\n",
        "\n",
        "5. “Gostariam que a análise fosse expandida para incluir outras variáveis de performance ou produtividade?”\n",
        "6. Outras perguntas pertinentes de acordo com o desenrolar da reunião.\n",
        "\n",
        "A reunião deve equilibrar evidência visual clara com comentários objetivos e perguntas estratégicas, mostrando o meu domínio técnico sem tirar o protagonismo do cliente na decisão porque o cliente sempre está no centro das decisões.\n",
        "\n"
      ],
      "metadata": {
        "id": "yH1DdyJlskjf"
      },
      "id": "yH1DdyJlskjf"
    },
    {
      "cell_type": "markdown",
      "source": [
        "# C) Implemente a sua abordagem da melhor forma possível em um código Python, comentando as etapas do seu código. Não esqueça de trazer uma conclusão final."
      ],
      "metadata": {
        "id": "VTJqXcmNwIpu"
      },
      "id": "VTJqXcmNwIpu"
    },
    {
      "cell_type": "code",
      "source": [
        "# 1. Importar bibliotecas\n",
        "import pandas as pd\n",
        "import seaborn as sns\n",
        "import matplotlib.pyplot as plt\n",
        "import statsmodels.api as sm"
      ],
      "metadata": {
        "id": "WlR94nCnxI0y"
      },
      "id": "WlR94nCnxI0y",
      "execution_count": null,
      "outputs": []
    },
    {
      "cell_type": "code",
      "source": [
        "from google.colab import drive\n",
        "drive.mount('/content/drive')"
      ],
      "metadata": {
        "colab": {
          "base_uri": "https://localhost:8080/"
        },
        "id": "eRj3xO6RxVuZ",
        "outputId": "42cb2c00-3663-4d1d-ab18-f77c1978497c"
      },
      "id": "eRj3xO6RxVuZ",
      "execution_count": null,
      "outputs": [
        {
          "output_type": "stream",
          "name": "stdout",
          "text": [
            "Mounted at /content/drive\n"
          ]
        }
      ]
    },
    {
      "cell_type": "code",
      "source": [
        "# 2. Carregar os dados\n",
        "df = pd.read_excel(\"/content/drive/MyDrive/Artefact/1st_Phase_-_Selective_Process_-_Data_Science_-_DataBase.xlsx\", sheet_name=\"Sheet3\")"
      ],
      "metadata": {
        "id": "pCr3HTbQxNwA"
      },
      "id": "pCr3HTbQxNwA",
      "execution_count": null,
      "outputs": []
    },
    {
      "cell_type": "code",
      "source": [
        "# 3. Análise exploratória\n",
        "sns.boxplot(x='LOCAL', y='SALARIO_MENSAL', data=df)\n",
        "plt.title(\"Distribuição Salarial por Local\")\n",
        "plt.show()\n",
        "\n",
        "sns.barplot(x='CARGO', y='SALARIO_MENSAL', hue='LOCAL', data=df, ci=None)\n",
        "plt.title(\"Salário Médio por Cargo e Local\")\n",
        "plt.xticks(rotation=45)\n",
        "plt.show()"
      ],
      "metadata": {
        "colab": {
          "base_uri": "https://localhost:8080/",
          "height": 1000
        },
        "id": "jvum6SGXxvS6",
        "outputId": "27d7176f-86c4-4c93-f888-a7ff42585fd1"
      },
      "id": "jvum6SGXxvS6",
      "execution_count": null,
      "outputs": [
        {
          "output_type": "display_data",
          "data": {
            "text/plain": [
              "<Figure size 640x480 with 1 Axes>"
            ],
            "image/png": "[encoded data removed]"
          },
          "metadata": {}
        },
        {
          "output_type": "stream",
          "name": "stderr",
          "text": [
            "/tmp/ipython-input-4-1612973081.py:6: FutureWarning: \n",
            "\n",
            "The `ci` parameter is deprecated. Use `errorbar=None` for the same effect.\n",
            "\n",
            "  sns.barplot(x='CARGO', y='SALARIO_MENSAL', hue='LOCAL', data=df, ci=None)\n"
          ]
        },
        {
          "output_type": "display_data",
          "data": {
            "text/plain": [
              "<Figure size 640x480 with 1 Axes>"
            ],
            "image/png": "[encoded data removed]"
          },
          "metadata": {}
        }
      ]
    },
    {
      "cell_type": "code",
      "source": [
        "# 4. Preparação dos dados\n",
        "# Preparamos os dados para que a regressão funcione corretamente, transformando textos em números,\n",
        "#separando o que será previsto (salário) dos fatores explicativos, e padronizando os formatos.\n",
        "\n",
        "df_model = pd.get_dummies(df, columns=['EDUCAÇÃO', 'CARGO', 'LOCAL'], drop_first=True)\n",
        "X = df_model.drop(columns=['ID', 'SALARIO_MENSAL'])\n",
        "y = df_model['SALARIO_MENSAL']\n",
        "X = sm.add_constant(X)"
      ],
      "metadata": {
        "id": "rviVBNPQx24o"
      },
      "id": "rviVBNPQx24o",
      "execution_count": null,
      "outputs": []
    },
    {
      "cell_type": "code",
      "source": [
        "print(df_model.dtypes) # Para saber quais tipos de variáveis temos no dataset.\n"
      ],
      "metadata": {
        "colab": {
          "base_uri": "https://localhost:8080/"
        },
        "id": "GwUJuPaHyjC9",
        "outputId": "d9ae3bf4-61ad-4748-ff03-9356ba0fbf9b"
      },
      "id": "GwUJuPaHyjC9",
      "execution_count": null,
      "outputs": [
        {
          "output_type": "stream",
          "name": "stdout",
          "text": [
            "ID                     int64\n",
            "IDADE                  int64\n",
            "TEMPOCASA              int64\n",
            "SALARIO_MENSAL       float64\n",
            "EDUCAÇÃO_SUPERIOR       bool\n",
            "CARGO_DIRETOR           bool\n",
            "CARGO_GERENTE           bool\n",
            "LOCAL_INTERIOR          bool\n",
            "dtype: object\n"
          ]
        }
      ]
    },
    {
      "cell_type": "code",
      "source": [
        "# Problema: As colunas bool (True/False) como: EDUCAÇÃO_SUPERIOR, CARGO_DIRETOR,CARGO_GERENTE e LOCAL_INTERIOR\n",
        "#Estão sendo interpretadas como tipo bool, e o statsmodels.OLS não aceita esse tipo — ele exige colunas estritamente numéricas (int ou float).\n",
        "\n",
        "X = X.astype(float)  # converte tudo, incluindo os booleanos\n"
      ],
      "metadata": {
        "id": "g1pZ78jazdX7"
      },
      "id": "g1pZ78jazdX7",
      "execution_count": null,
      "outputs": []
    },
    {
      "cell_type": "code",
      "source": [
        "# Adicionar constante para o modelo\n",
        "\n",
        "X = sm.add_constant(X)"
      ],
      "metadata": {
        "id": "Q1T3msLXzi8z"
      },
      "id": "Q1T3msLXzi8z",
      "execution_count": null,
      "outputs": []
    },
    {
      "cell_type": "code",
      "source": [
        "# Converter tudo para float para evitar erro com tipos booleanos\n",
        "\n",
        "X = X.astype(float)\n",
        "y = y.astype(float)"
      ],
      "metadata": {
        "id": "vPMNSSpXzj9k"
      },
      "id": "vPMNSSpXzj9k",
      "execution_count": null,
      "outputs": []
    },
    {
      "cell_type": "code",
      "source": [
        "# Ajustar modelo OLS\n",
        "#Usaei o modelo de regressão linear para descobrir quais fatores explicam o salário dos funcionários.\n",
        "#Ele me ajudou a concluir que a localização não está influenciando o salário de forma injusta, o que é uma boa notícia para a política da empresa.\n",
        "\n",
        "# 5. Regressão linear\n",
        "# A regressão linear é uma ferramenta matemática que nos ajuda a descobrir a relação entre essas variáveis e prever o salário.\n",
        "#E uma forma de entender e prever como uma coisa (como salário) muda quando outras coisas mudam (como tempo de casa, idade, cargo etc.).\n",
        "model = sm.OLS(y, X).fit()\n",
        "print(model.summary())"
      ],
      "metadata": {
        "colab": {
          "base_uri": "https://localhost:8080/"
        },
        "id": "R-woWhU5ztEq",
        "outputId": "18073411-6834-4d86-83c1-8014eef32c40"
      },
      "id": "R-woWhU5ztEq",
      "execution_count": null,
      "outputs": [
        {
          "output_type": "stream",
          "name": "stdout",
          "text": [
            "                            OLS Regression Results                            \n",
            "==============================================================================\n",
            "Dep. Variable:         SALARIO_MENSAL   R-squared:                       0.626\n",
            "Model:                            OLS   Adj. R-squared:                  0.595\n",
            "Method:                 Least Squares   F-statistic:                     20.33\n",
            "Date:                Mon, 21 Jul 2025   Prob (F-statistic):           7.77e-14\n",
            "Time:                        12:29:08   Log-Likelihood:                -636.69\n",
            "No. Observations:                  80   AIC:                             1287.\n",
            "Df Residuals:                      73   BIC:                             1304.\n",
            "Df Model:                           6                                         \n",
            "Covariance Type:            nonrobust                                         \n",
            "=====================================================================================\n",
            "                        coef    std err          t      P>|t|      [0.025      0.975]\n",
            "-------------------------------------------------------------------------------------\n",
            "const              3631.0433    594.635      6.106      0.000    2445.938    4816.149\n",
            "IDADE                14.7424     14.462      1.019      0.311     -14.080      43.564\n",
            "TEMPOCASA            81.3154     18.199      4.468      0.000      45.045     117.586\n",
            "EDUCAÇÃO_SUPERIOR   161.0824    214.205      0.752      0.454    -265.828     587.993\n",
            "CARGO_DIRETOR      1187.0942    277.146      4.283      0.000     634.743    1739.445\n",
            "CARGO_GERENTE       362.8629    184.628      1.965      0.053      -5.101     730.827\n",
            "LOCAL_INTERIOR      155.3521    186.840      0.831      0.408    -217.019     527.723\n",
            "==============================================================================\n",
            "Omnibus:                      124.459   Durbin-Watson:                   2.044\n",
            "Prob(Omnibus):                  0.000   Jarque-Bera (JB):             4523.915\n",
            "Skew:                           5.133   Prob(JB):                         0.00\n",
            "Kurtosis:                      38.380   Cond. No.                         387.\n",
            "==============================================================================\n",
            "\n",
            "Notes:\n",
            "[1] Standard Errors assume that the covariance matrix of the errors is correctly specified.\n"
          ]
        }
      ]
    },
    {
      "cell_type": "markdown",
      "source": [
        "# Conclusão Final\n",
        "A variável LOCAL_INTERIOR não é estatisticamente significativa (p-valor = 0.408), o que indica que, ao controlar por cargo, idade, tempo de casa e escolaridade, não há evidência de que a localização influencie significativamente os salários.\n",
        "\n",
        "Portanto, com base nos dados e modelo utilizados, a empresa parece estar respeitando sua política de não-discriminação salarial por localização."
      ],
      "metadata": {
        "id": "qx3zbtqr0CAy"
      },
      "id": "qx3zbtqr0CAy"
    },
    {
      "cell_type": "markdown",
      "source": [
        "✅ Tempo de empresa e ser diretor influenciam bastante o salário.\n",
        "\n",
        "❌ Localização (interior vs. capital) não influencia de forma estatisticamente relevante.\n",
        "\n",
        "✅ Isso indica que a empresa está tratando os salários de forma justa entre regiões, respeitando a política interna."
      ],
      "metadata": {
        "id": "ltzxfcw40jax"
      },
      "id": "ltzxfcw40jax"
    },
    {
      "cell_type": "markdown",
      "source": [
        "#Fim\n",
        "\n",
        "Obrigado.\n",
        "\n",
        "Atenciosamente,\n",
        "\n",
        "Bruno Gomes da Silva"
      ],
      "metadata": {
        "id": "TgKIN5Ab0oB5"
      },
      "id": "TgKIN5Ab0oB5"
    }
  ],
  "metadata": {
    "colab": {
      "provenance": []
    },
    "language_info": {
      "name": "python"
    },
    "kernelspec": {
      "name": "python3",
      "display_name": "Python 3"
    }
  },
  "nbformat": 4,
  "nbformat_minor": 5
}